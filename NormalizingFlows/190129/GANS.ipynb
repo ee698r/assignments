{
 "cells": [
  {
   "cell_type": "code",
   "execution_count": 1,
   "metadata": {},
   "outputs": [],
   "source": [
    "import numpy as np\n",
    "import tensorflow as tf\n",
    "import matplotlib.pyplot as plt\n",
    "from tensorflow import keras\n",
    "from keras import layers"
   ]
  },
  {
   "cell_type": "code",
   "execution_count": 2,
   "metadata": {},
   "outputs": [],
   "source": [
    "def get_y(x):\n",
    "    return 10 + x*x\n",
    "\n",
    "\n",
    "def sample_data(n=10000, scale=100):\n",
    "    data = []\n",
    "\n",
    "    x = scale*(np.random.random_sample((n,))-0.5)\n",
    "\n",
    "    for i in range(n):\n",
    "        yi = get_y(x[i])\n",
    "        data.append([x[i], yi])\n",
    "\n",
    "    return np.array(data)"
   ]
  },
  {
   "cell_type": "code",
   "execution_count": 3,
   "metadata": {},
   "outputs": [],
   "source": [
    "def sample_Z(m, n):\n",
    "    return np.random.uniform(-1., 1., size=[m, n])"
   ]
  },
  {
   "cell_type": "code",
   "execution_count": 4,
   "metadata": {},
   "outputs": [],
   "source": [
    "cross_entropy = tf.keras.losses.BinaryCrossentropy(from_logits = True)"
   ]
  },
  {
   "cell_type": "code",
   "execution_count": 5,
   "metadata": {},
   "outputs": [],
   "source": [
    "class Generator(keras.Model):\n",
    "    \n",
    "    def __init__(self, random_noise_size = 2):\n",
    "        super().__init__(name='generator')\n",
    "        #layers\n",
    "        self.input_layer = keras.layers.Dense(units = random_noise_size)\n",
    "        self.layer1=layers.Dense(16, activation='relu')\n",
    "        self.layer2=layers.Dense(16,activation='relu')\n",
    "        self.layer3=layers.Dense(2)\n",
    "#         self.input_layer = keras.layers.Dense(units = random_noise_size)\n",
    "#         self.dense_1 = keras.layers.Dense(units = 16)\n",
    "#         self.leaky_1 =  keras.layers.LeakyReLU(alpha = 0.01)\n",
    "#         self.dense_2 = keras.layers.Dense(units = 16)\n",
    "#         self.leaky_2 = keras.layers.LeakyReLU(alpha = 0.01)\n",
    "#         self.dense_3 = keras.layers.Dense(units = 4)\n",
    "#         self.leaky_3 = keras.layers.LeakyReLU(alpha = 0.01)\n",
    "#         self.output_layer = keras.layers.Dense(units=2, activation = \"tanh\")\n",
    "        \n",
    "    def call(self, input_tensor):\n",
    "        x=self.input_layer(input_tensor)\n",
    "        x=self.layer1(x)\n",
    "        x=self.layer2(x)\n",
    "        x=self.layer3(x)\n",
    "        ## Definition of Forward Pass\n",
    "#         x = self.input_layer(input_tensor)\n",
    "#         x = self.dense_1(x)\n",
    "#         x = self.leaky_1(x)\n",
    "#         x = self.dense_2(x)\n",
    "#         x = self.leaky_2(x)\n",
    "#         x = self.dense_3(x)\n",
    "#         x = self.leaky_3(x)\n",
    "        return  x\n",
    "    \n",
    "    def generate_noise(self,batch_size, random_noise_size):\n",
    "        return np.random.uniform(-1,1, size = (batch_size, random_noise_size))"
   ]
  },
  {
   "cell_type": "code",
   "execution_count": 6,
   "metadata": {},
   "outputs": [],
   "source": [
    "def generator_objective(dx_of_gx):\n",
    "    # Labels are true here because generator thinks he produces real images. \n",
    "    return cross_entropy(tf.ones_like(dx_of_gx), dx_of_gx)"
   ]
  },
  {
   "cell_type": "code",
   "execution_count": 7,
   "metadata": {},
   "outputs": [],
   "source": [
    "generator = Generator()"
   ]
  },
  {
   "cell_type": "code",
   "execution_count": 8,
   "metadata": {},
   "outputs": [
    {
     "name": "stdout",
     "output_type": "stream",
     "text": [
      "tf.Tensor([[-0.09020833  0.12754866]], shape=(1, 2), dtype=float32)\n"
     ]
    }
   ],
   "source": [
    "fake = generator(np.random.uniform(-1,1, size =(1,2)))\n",
    "print(fake)\n",
    "# fake = tf.reshape(fake, shape = (28,28))\n",
    "# plt.imshow(fake, cmap = \"gray\")"
   ]
  },
  {
   "cell_type": "code",
   "execution_count": 9,
   "metadata": {},
   "outputs": [],
   "source": [
    "class Discriminator(keras.Model):\n",
    "    def __init__(self):\n",
    "        super().__init__(name = \"discriminator\")\n",
    "        self.input_layer = keras.layers.Dense(units = 2)\n",
    "        self.layer1=layers.Dense(16, activation='relu')\n",
    "        self.layer2=layers.Dense(16,activation='relu')\n",
    "        self.layer3=layers.Dense(1)\n",
    "        #Layers\n",
    "#         self.input_layer = keras.layers.Dense(units = 2)\n",
    "#         self.dense_1 = keras.layers.Dense(units = 16)\n",
    "#         self.leaky_1 =  keras.layers.LeakyReLU(alpha = 0.01)\n",
    "#         self.dense_2 = keras.layers.Dense(units = 16)\n",
    "#         self.leaky_2 = keras.layers.LeakyReLU(alpha = 0.01)\n",
    "#         self.dense_3 = keras.layers.Dense(units = 2)\n",
    "#         self.leaky_3 = keras.layers.LeakyReLU(alpha = 0.01)\n",
    "        \n",
    "        self.logits = keras.layers.Dense(units = 1)  # This neuron tells us if the input is fake or real\n",
    "    def call(self, input_tensor):\n",
    "        x = self.input_layer(input_tensor)\n",
    "        x=self.layer1(x)\n",
    "        x=self.layer2(x)\n",
    "        x=self.layer3(x)\n",
    "          ## Definition of Forward Pass\n",
    "#         x = self.input_layer(input_tensor)\n",
    "#         x = self.dense_1(x)\n",
    "#         x = self.leaky_1(x)\n",
    "#         x = self.leaky_2(x)\n",
    "#         x = self.leaky_3(x)\n",
    "#         x = self.leaky_3(x)\n",
    "#         x = self.logits(x)\n",
    "        return x"
   ]
  },
  {
   "cell_type": "code",
   "execution_count": 10,
   "metadata": {},
   "outputs": [],
   "source": [
    "def discriminator_objective(d_x, g_z, smoothing_factor = 0.9):\n",
    "    \"\"\"\n",
    "    d_x = real output\n",
    "    g_z = fake output\n",
    "    \"\"\"\n",
    "    real_loss = cross_entropy(tf.ones_like(d_x) * smoothing_factor, d_x) # If we feed the discriminator with real images, we assume they all are the right pictures --> Because of that label == 1\n",
    "    fake_loss = cross_entropy(tf.zeros_like(g_z), g_z) # Each noise we feed in are fakes image --> Because of that labels are 0\n",
    "    \n",
    "    total_loss = tf.add(real_loss , fake_loss)\n",
    "    \n",
    "    return total_loss"
   ]
  },
  {
   "cell_type": "code",
   "execution_count": 11,
   "metadata": {},
   "outputs": [],
   "source": [
    "discriminator = Discriminator()"
   ]
  },
  {
   "cell_type": "code",
   "execution_count": 12,
   "metadata": {},
   "outputs": [],
   "source": [
    "generator_optimizer = keras.optimizers.RMSprop()\n",
    "discriminator_optimizer = keras.optimizers.RMSprop()"
   ]
  },
  {
   "cell_type": "code",
   "execution_count": 13,
   "metadata": {},
   "outputs": [],
   "source": [
    "@tf.function()\n",
    "def training_step(generator: Discriminator, discriminator: Discriminator, images:np.ndarray , k:int =1, batch_size = 32):\n",
    "    for _ in range(k):\n",
    "         with tf.GradientTape() as gen_tape, tf.GradientTape() as disc_tape:\n",
    "            noise = generator.generate_noise(batch_size, 2)\n",
    "            g_z = generator(noise)\n",
    "            d_x_true = discriminator(images) # Trainable?\n",
    "            d_x_fake = discriminator(g_z) # dx_of_gx\n",
    "\n",
    "            discriminator_loss = discriminator_objective(d_x_true, d_x_fake)\n",
    "            # Adjusting Gradient of Discriminator\n",
    "            gradients_of_discriminator = disc_tape.gradient(discriminator_loss, discriminator.trainable_variables)\n",
    "            discriminator_optimizer.apply_gradients(zip(gradients_of_discriminator, discriminator.trainable_variables)) # Takes a list of gradient and variables pairs\n",
    "            \n",
    "              \n",
    "            generator_loss = generator_objective(d_x_fake)\n",
    "            # Adjusting Gradient of Generator\n",
    "            gradients_of_generator = gen_tape.gradient(generator_loss, generator.trainable_variables)\n",
    "            generator_optimizer.apply_gradients(zip(gradients_of_generator, generator.trainable_variables)) "
   ]
  },
  {
   "cell_type": "code",
   "execution_count": 14,
   "metadata": {},
   "outputs": [],
   "source": [
    "# BATCH_SIZE = 256\n",
    "# BUFFER_SIZE = 60000\n",
    "# EPOCHES = 300\n",
    "# OUTPUT_DIR = \"img\"\n",
    "# mnist = keras.datasets.mnist\n",
    "# (train_images, train_labels), (test_images, test_labels) = mnist.load_data()\n",
    "# train_images = train_images.astype(\"float32\")\n",
    "# train_images = (train_images - 127.5) / 127.5\n",
    "# train_dataset = tf.data.Dataset.from_tensor_slices(train_images.reshape(train_images.shape[0],784)).shuffle(BUFFER_SIZE).batch(BATCH_SIZE)"
   ]
  },
  {
   "cell_type": "code",
   "execution_count": 15,
   "metadata": {},
   "outputs": [],
   "source": [
    "dataset_size=100000\n",
    "n=2\n",
    "traindata=sample_data(dataset_size)\n",
    "epochs = 5\n",
    "batch_size = 100\n",
    "batches_per_epoch = dataset_size//batch_size+1\n",
    "for i in range(epochs):\n",
    "    for j in range(batches_per_epoch):\n",
    "        data_batch = traindata[batch_size*j:batch_size*(j+1)]\n",
    "        training_step(generator, discriminator, data_batch ,batch_size = batch_size , k = 1)"
   ]
  },
  {
   "cell_type": "code",
   "execution_count": 16,
   "metadata": {},
   "outputs": [],
   "source": [
    "# def training(dataset, epoches):\n",
    "#     for epoch in range(epoches):\n",
    "#         for batch in dataset: \n",
    "#             training_step(generator, discriminator, batch ,batch_size = BATCH_SIZE, k = 1)\n",
    "            \n"
   ]
  },
  {
   "cell_type": "code",
   "execution_count": 17,
   "metadata": {},
   "outputs": [],
   "source": [
    "# training(train_dataset, EPOCHES)"
   ]
  },
  {
   "cell_type": "code",
   "execution_count": 18,
   "metadata": {},
   "outputs": [
    {
     "data": {
      "text/plain": [
       "<matplotlib.collections.PathCollection at 0x18e898978e0>"
      ]
     },
     "execution_count": 18,
     "metadata": {},
     "output_type": "execute_result"
    },
    {
     "data": {
      "image/png": "[encoded data removed]",
      "text/plain": [
       "<Figure size 432x288 with 1 Axes>"
      ]
     },
     "metadata": {
      "needs_background": "light"
     },
     "output_type": "display_data"
    }
   ],
   "source": [
    "x=list()\n",
    "for i in range(2000):\n",
    "    x.append(generator(np.random.uniform(-1,1, size = (1, 2)))[0])\n",
    "x=np.array(x)\n",
    "plt.scatter(x[:,0],x[:,1])"
   ]
  },
  {
   "cell_type": "code",
   "execution_count": 19,
   "metadata": {},
   "outputs": [
    {
     "data": {
      "text/plain": [
       "<matplotlib.collections.PathCollection at 0x18e897689a0>"
      ]
     },
     "execution_count": 19,
     "metadata": {},
     "output_type": "execute_result"
    },
    {
     "data": {
      "image/png": "[encoded data removed]",
      "text/plain": [
       "<Figure size 432x288 with 1 Axes>"
      ]
     },
     "metadata": {
      "needs_background": "light"
     },
     "output_type": "display_data"
    }
   ],
   "source": [
    "plt.scatter(traindata[0:1000,0],traindata[0:1000,1])"
   ]
  },
  {
   "cell_type": "code",
   "execution_count": null,
   "metadata": {},
   "outputs": [],
   "source": []
  }
 ],
 "metadata": {
  "kernelspec": {
   "display_name": "Python 3",
   "language": "python",
   "name": "python3"
  },
  "language_info": {
   "codemirror_mode": {
    "name": "ipython",
    "version": 3
   },
   "file_extension": ".py",
   "mimetype": "text/x-python",
   "name": "python",
   "nbconvert_exporter": "python",
   "pygments_lexer": "ipython3",
   "version": "3.8.3"
  }
 },
 "nbformat": 4,
 "nbformat_minor": 4
}
