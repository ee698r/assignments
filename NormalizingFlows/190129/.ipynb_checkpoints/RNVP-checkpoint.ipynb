{
 "cells": [
  {
   "cell_type": "code",
   "execution_count": null,
   "metadata": {
    "id": "AP8oBs8PvTlz"
   },
   "outputs": [],
   "source": [
    "import tensorflow as tf\n",
    "import numpy as np\n",
    "from scipy.stats import multivariate_normal\n",
    "from tensorflow import keras\n",
    "from tensorflow.keras import layers\n",
    "from tensorflow.keras import optimizers\n",
    "import matplotlib.pyplot as plt\n",
    "import tensorflow_probability as tfp\n",
    "tfd=tfp.distributions"
   ]
  },
  {
   "cell_type": "code",
   "execution_count": null,
   "metadata": {
    "id": "oz54cscevbWc"
   },
   "outputs": [],
   "source": [
    "pr=[.2,.3,.5]\n",
    "u=[[10.0,5.0],[6.0,-5.0],[1.0,1.0]]\n",
    "var=[ [[1.0,0.0],[0.0,1.0]], [[2.0,0.0],[0.0,2.0]] ,[[1.5,0.0],[0.0,1.0]]]\n",
    "sd=[[1.0,1.0],[1.414,1.414],[1.5**.5,1]]\n",
    "base_dist = tfp.distributions.MultivariateNormalDiag(loc=tf.zeros([2])) \n",
    "mvgmm = tfd.MixtureSameFamily(\n",
    "    mixture_distribution=tfd.Categorical(probs=pr),\n",
    "    components_distribution=tfd.MultivariateNormalDiag(\n",
    "        loc=u,\n",
    "        scale_diag=sd)\n",
    ")"
   ]
  },
  {
   "cell_type": "code",
   "execution_count": null,
   "metadata": {
    "id": "C6qcH19V2iL8"
   },
   "outputs": [],
   "source": [
    "class NN(layers.Layer):\n",
    "    \"\"\"\n",
    "    Neural Network Architecture for calcualting s and t for Real-NVP\n",
    "    \n",
    "    :param input_shape: shape of the data coming in the layer\n",
    "    :param hidden_units: Python list-like of non-negative integers, specifying the number of units in each hidden layer.\n",
    "    :param activation: Activation of the hidden units\n",
    "    \"\"\"\n",
    "    def __init__(self, input_shape, n_hidden=[64,64], activation=\"relu\"):\n",
    "        super(NN, self).__init__(name=\"nn\")\n",
    "        layer_list = []\n",
    "        for n in n_hidden:\n",
    "            layer_list.append(layers.Dense(n, activation=activation))\n",
    "        self.layer_list = layer_list\n",
    "        self.log_s_layer = layers.Dense(input_shape, activation=\"tanh\", name='log_s')\n",
    "        self.t_layer = layers.Dense(input_shape, name='t')\n",
    "\n",
    "    def call(self, x):\n",
    "        y = x\n",
    "        for layer in self.layer_list:\n",
    "            y = layer(y)\n",
    "        log_s = self.log_s_layer(y)\n",
    "        t = self.t_layer(y)\n",
    "        return log_s, t"
   ]
  },
  {
   "cell_type": "code",
   "execution_count": null,
   "metadata": {
    "id": "F5WzmQAk5aXa"
   },
   "outputs": [],
   "source": [
    "class realNVP():\n",
    "    \"\"\"\n",
    "    Implementation of a Real-NVP for Density Estimation. L. Dinh “Density estimation using Real NVP,” 2016.\n",
    "    This implementation only works for 1D arrays.\n",
    "    :param input_shape: shape of the data coming in the layer\n",
    "    :param hidden_units: Python list-like of non-negative integers, specifying the number of units in each hidden layer.\n",
    "    \"\"\"\n",
    "\n",
    "    def __init__(self, input_shape, flip):\n",
    "        assert input_shape % 2 == 0\n",
    "        input_shape = input_shape // 2\n",
    "        nn = NN(input_shape)\n",
    "        x = keras.Input(input_shape)\n",
    "        log_s, t = nn(x)\n",
    "        self.nn = keras.Model(x, [log_s, t], name=\"nn\")\n",
    "        self.flip = flip\n",
    "        #print(self.nn.summary())\n",
    "        \n",
    "    def _forward(self, u):\n",
    "        u1, u2 = tf.split(u, 2, axis=-1)\n",
    "\n",
    "        if self.flip == True:\n",
    "          u1, u2 = u2, u1\n",
    "\n",
    "        x1 = u1\n",
    "        log_s, mu = self.nn(u1)\n",
    "        x2 = u2 * tf.exp(log_s) + mu \n",
    "\n",
    "        if self.flip == True:\n",
    "          x1, x2 = x2, x1\n",
    "        \n",
    "        x = tf.concat([x1, x2], axis=-1)\n",
    "        return x, log_s\n",
    "\n",
    "    def _inverse(self, x):\n",
    "        x1, x2 = tf.split(x, 2, axis=-1)\n",
    "\n",
    "        if self.flip == True:\n",
    "          x1, x2 = x2, x1\n",
    "        \n",
    "        u1 = x1\n",
    "        log_s, mu = self.nn(x1)\n",
    "        u2 = (x2 - mu)/tf.exp(log_s)\n",
    "\n",
    "        if self.flip == True:\n",
    "          u1, u2 = u2, u1\n",
    "        \n",
    "        u = tf.concat([u1, u2], axis=-1)\n",
    "        return u, log_s"
   ]
  },
  {
   "cell_type": "code",
   "execution_count": null,
   "metadata": {
    "id": "9rIqN6wH-Lfn"
   },
   "outputs": [],
   "source": [
    "n=4\n",
    "flip=False\n",
    "rnvp_chain=list()\n",
    "for _ in range(n):\n",
    "  rnvp_chain.append(realNVP(2,flip))\n",
    "  flip=not flip\n"
   ]
  },
  {
   "cell_type": "code",
   "execution_count": null,
   "metadata": {
    "id": "dvHurRn2AKBi"
   },
   "outputs": [],
   "source": [
    "def complete_inverse(x):\n",
    "  u = x\n",
    "  log_det_jacob_inv_transf = 0\n",
    "  for i in range(n-1,-1,-1):\n",
    "    u, log_s = rnvp_chain[i]._inverse(u)\n",
    "    log_det_jacob_inv_transf = log_det_jacob_inv_transf - log_s\n",
    "  return u, log_det_jacob_inv_transf\n",
    "\n",
    "def complete_forward(u):\n",
    "  x = u\n",
    "  log_det_jacob_forward_transf = 0\n",
    "  for i in range(n):\n",
    "    x, log_s = rnvp_chain[i]._forward(x)\n",
    "    log_det_jacob_forward_transf = log_det_jacob_forward_transf + log_s\n",
    "  return x, log_det_jacob_forward_transf"
   ]
  },
  {
   "cell_type": "code",
   "execution_count": null,
   "metadata": {
    "id": "VvjAgsBMD7WN"
   },
   "outputs": [],
   "source": [
    "\n",
    "def train_density_estimation(data_batch, rnvp_chain, base_dist, optimizer): #batch):\n",
    "    \"\"\"\n",
    "    Train function for density estimation normalizing flows.\n",
    "    \"\"\"\n",
    "    with tf.GradientTape() as tape:\n",
    "      u, log_det_jacob_inv_transf = complete_inverse(data_batch)\n",
    "      loss = -tf.reduce_mean(base_dist.log_prob(u) + log_det_jacob_inv_transf)\n",
    "    gradients = tape.gradient(loss, tape.watched_variables())\n",
    "    #optimizer.apply_gradients(zip(gradients, training_variables))\n",
    "    #optimizer.apply_gradients(zip(gradients, (rnvp_chain[0].nn.trainable_variables,rnvp_chain[1].nn.trainable_variables)))\n",
    "    optimizer.apply_gradients(zip(gradients, tape.watched_variables()))\n",
    "    return loss"
   ]
  },
  {
   "cell_type": "code",
   "execution_count": null,
   "metadata": {
    "colab": {
     "base_uri": "https://localhost:8080/",
     "height": 282
    },
    "id": "pSYHAFlkHjn-",
    "outputId": "697ebed1-f14b-4ce3-a779-582ea08548d8"
   },
   "outputs": [
    {
     "data": {
      "text/plain": [
       "<matplotlib.collections.PathCollection at 0x7f09131dadd0>"
      ]
     },
     "execution_count": 103,
     "metadata": {},
     "output_type": "execute_result"
    },
    {
     "data": {
      "image/png": "[encoded data removed]",
      "text/plain": [
       "<Figure size 432x288 with 1 Axes>"
      ]
     },
     "metadata": {
      "needs_background": "light"
     },
     "output_type": "display_data"
    }
   ],
   "source": [
    "data=mvgmm.sample(10000)\n",
    "plt.scatter(data[:,0],data[:,1])\n"
   ]
  },
  {
   "cell_type": "code",
   "execution_count": null,
   "metadata": {
    "colab": {
     "base_uri": "https://localhost:8080/"
    },
    "id": "aWa4O0LfGHIi",
    "outputId": "5a5fc51e-5911-4f2e-ece1-8237655a68ff"
   },
   "outputs": [
    {
     "name": "stdout",
     "output_type": "stream",
     "text": [
      "tf.Tensor(4.3320227, shape=(), dtype=float32)\n"
     ]
    }
   ],
   "source": [
    "dataset_size = 10000\n",
    "epochs = 1\n",
    "optimizer = optimizers.Adam(learning_rate = 0.001)\n",
    "batch_size = 128\n",
    "batches_per_epoch = dataset_size//batch_size+1\n",
    "for i in range(epochs):\n",
    "  for j in range(batches_per_epoch):\n",
    "    data_batch = data[batch_size*j:batch_size*(j+1)]\n",
    "    last_loss = train_density_estimation(data_batch, rnvp_chain, base_dist, optimizer)\n",
    "  print(last_loss)\n"
   ]
  },
  {
   "cell_type": "code",
   "execution_count": null,
   "metadata": {
    "colab": {
     "base_uri": "https://localhost:8080/",
     "height": 282
    },
    "id": "8KzNXNFOIjq4",
    "outputId": "93eb1f0c-a9fc-41a1-9835-94d1c8d69ccd"
   },
   "outputs": [
    {
     "data": {
      "text/plain": [
       "<matplotlib.collections.PathCollection at 0x7f09131e7150>"
      ]
     },
     "execution_count": 105,
     "metadata": {},
     "output_type": "execute_result"
    },
    {
     "data": {
      "image/png": "[encoded data removed]",
      "text/plain": [
       "<Figure size 432x288 with 1 Axes>"
      ]
     },
     "metadata": {
      "needs_background": "light"
     },
     "output_type": "display_data"
    }
   ],
   "source": [
    "test_samples_u = base_dist.sample(10000)\n",
    "test_samples_x, _ = complete_forward(test_samples_u)\n",
    "plt.scatter(test_samples_x[:,0],test_samples_x[:,1])"
   ]
  },
  {
   "cell_type": "code",
   "execution_count": null,
   "metadata": {
    "colab": {
     "base_uri": "https://localhost:8080/",
     "height": 282
    },
    "id": "aklj8OpOFSz3",
    "outputId": "2df242a2-d18b-4629-f893-6f942c8cba1c"
   },
   "outputs": [
    {
     "data": {
      "text/plain": [
       "<matplotlib.collections.PathCollection at 0x7f0912982d90>"
      ]
     },
     "execution_count": 150,
     "metadata": {},
     "output_type": "execute_result"
    },
    {
     "data": {
      "image/png": "[encoded data removed]",
      "text/plain": [
       "<Figure size 432x288 with 1 Axes>"
      ]
     },
     "metadata": {
      "needs_background": "light"
     },
     "output_type": "display_data"
    }
   ],
   "source": [
    "data=base_dist.sample(1000000)\n",
    "plt.scatter(data[:,0],data[:,1])"
   ]
  },
  {
   "cell_type": "code",
   "execution_count": null,
   "metadata": {
    "id": "PET0XPA9PMTZ"
   },
   "outputs": [],
   "source": [
    "def tde(data,rnvp,base_dist,optimizer):\n",
    "  with tf.GradientTape() as tape:\n",
    "    x,c=complete_forward(data)\n",
    "    log_loss=tf.reduce_mean(base_dist.log_prob(data)-c-mvgmm.log_prob(x))\n",
    "  gradients=tape.gradient(log_loss,tape.watched_variables())\n",
    "  optimizer.apply_gradients(zip(gradients,tape.watched_variables()))\n",
    "  return(log_loss)"
   ]
  },
  {
   "cell_type": "code",
   "execution_count": null,
   "metadata": {
    "colab": {
     "base_uri": "https://localhost:8080/"
    },
    "id": "kaXtyxuxS5Nn",
    "outputId": "452f8fa5-83a2-4317-d2d3-e4378d2f6f82"
   },
   "outputs": [
    {
     "name": "stdout",
     "output_type": "stream",
     "text": [
      "tf.Tensor(0.21504377, shape=(), dtype=float32)\n"
     ]
    }
   ],
   "source": [
    "\n",
    "dataset_size = 1000000\n",
    "epochs = 1\n",
    "optimizer = optimizers.Adam(learning_rate = 0.001)\n",
    "batch_size = 128\n",
    "batches_per_epoch = dataset_size//batch_size+1\n",
    "for i in range(epochs):\n",
    "  for j in range(batches_per_epoch):\n",
    "    data_batch = data[batch_size*j:batch_size*(j+1)]\n",
    "    last_loss = tde(data_batch, rnvp_chain, base_dist, optimizer)\n",
    "  print(last_loss)"
   ]
  },
  {
   "cell_type": "code",
   "execution_count": null,
   "metadata": {
    "colab": {
     "base_uri": "https://localhost:8080/"
    },
    "id": "kLkhNwXKVCSO",
    "outputId": "8dba51d7-aa02-4d27-f116-c744dae654e1"
   },
   "outputs": [
    {
     "data": {
      "text/plain": [
       "<matplotlib.collections.PathCollection at 0x7f09128fcfd0>"
      ]
     },
     "execution_count": 153,
     "metadata": {},
     "output_type": "execute_result"
    },
    {
     "data": {
      "image/png": "[encoded data removed]",
      "text/plain": [
       "<Figure size 432x288 with 1 Axes>"
      ]
     },
     "metadata": {
      "needs_background": "light"
     },
     "output_type": "display_data"
    }
   ],
   "source": [
    "test_samples_u = base_dist.sample(10000)\n",
    "test_samples_x, _ = complete_forward(test_samples_u)\n",
    "plt.scatter(test_samples_x[:,0],test_samples_x[:,1])"
   ]
  }
 ],
 "metadata": {
  "accelerator": "GPU",
  "colab": {
   "collapsed_sections": [],
   "name": "RNVP.ipynb",
   "provenance": []
  },
  "kernelspec": {
   "display_name": "Python 3",
   "language": "python",
   "name": "python3"
  },
  "language_info": {
   "codemirror_mode": {
    "name": "ipython",
    "version": 3
   },
   "file_extension": ".py",
   "mimetype": "text/x-python",
   "name": "python",
   "nbconvert_exporter": "python",
   "pygments_lexer": "ipython3",
   "version": "3.8.3"
  }
 },
 "nbformat": 4,
 "nbformat_minor": 1
}
