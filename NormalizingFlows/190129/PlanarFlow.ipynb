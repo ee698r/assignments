{
  "nbformat": 4,
  "nbformat_minor": 0,
  "metadata": {
    "colab": {
      "name": "PlanarFlow.ipynb",
      "provenance": []
    },
    "kernelspec": {
      "name": "python3",
      "display_name": "Python 3"
    },
    "language_info": {
      "name": "python"
    },
    "accelerator": "GPU"
  },
  "cells": [
    {
      "cell_type": "markdown",
      "source": [
        "#Ananyae"
      ],
      "metadata": {
        "id": "4R09An4LScm0"
      }
    },
    {
      "cell_type": "code",
      "execution_count": null,
      "metadata": {
        "id": "Cpidz0ei5H5P"
      },
      "outputs": [],
      "source": [
        "import tensorflow as tf\n",
        "import numpy as np\n",
        "from scipy.stats import multivariate_normal\n",
        "import tensorflow_probability as tfp\n",
        "import matplotlib.pyplot as plt\n",
        "tfd=tfp.distributions"
      ]
    },
    {
      "cell_type": "code",
      "source": [
        "pr=[.2,.3,.5]\n",
        "u=[[2.0,1.0],[1.0,-1.0],[1.0,1.0]]\n",
        "var=[ [[1.0,0.0],[0.0,1.0]], [[2.0,0.0],[0.0,2.0]] ,[[1.5,0.0],[0.0,1.0]]]\n",
        "sd=[[1.0,1.0],[1.414,1.414],[1.5**.5,1]]\n",
        "base_dist = tfp.distributions.MultivariateNormalDiag(loc=tf.zeros([2])) \n",
        "mvgmm = tfd.MixtureSameFamily(\n",
        "    mixture_distribution=tfd.Categorical(probs=pr),\n",
        "    components_distribution=tfd.MultivariateNormalDiag(\n",
        "        loc=u,\n",
        "        scale_diag=sd)\n",
        ")"
      ],
      "metadata": {
        "id": "XtGgE2nU5vIy"
      },
      "execution_count": null,
      "outputs": []
    },
    {
      "cell_type": "code",
      "source": [
        "def T_(u,c,w,b):\n",
        "  def _tem(t,w,c,b):\n",
        "    return t+c*tf.tanh(tf.tensordot(t,w,1)+b)\n",
        "  return tf.map_fn(lambda t:_tem(t,w,c,b),elems=u) "
      ],
      "metadata": {
        "id": "C04N8Cq5OrhJ"
      },
      "execution_count": null,
      "outputs": []
    },
    {
      "cell_type": "code",
      "source": [
        "def detjt(w,c,b,u_):\n",
        "  def temp_(w,c,b,u):\n",
        "    return tf.constant([1.0])+tf.divide(tf.tensordot(w,c,1),tf.square(tf.cosh(tf.tensordot(w,u,1)+b)))\n",
        "  return tf.math.log(tf.map_fn(lambda t:temp_(w,c,b,t),elems=u_))\n"
      ],
      "metadata": {
        "id": "tg5r4xY8BL_8"
      },
      "execution_count": null,
      "outputs": []
    },
    {
      "cell_type": "code",
      "source": [
        "def loss(c,w,b,n):\n",
        "  val=0;\n",
        "  us=base_dist.sample(n)\n",
        "  d=mvgmm.log_prob(T_(us,c,w,b))\n",
        "  p_b=base_dist.log_prob(us)\n",
        "  det=detjt(w,c,b,us)\n",
        "  val=tf.reduce_mean(p_b-det-d)\n",
        "  return val"
      ],
      "metadata": {
        "id": "suxTn9WPRkK5"
      },
      "execution_count": null,
      "outputs": []
    },
    {
      "cell_type": "code",
      "source": [
        "def T(u,c,w,b):\n",
        "  return tf.cast(u+tf.multiply(c,tf.tanh(tf.tensordot(u,w,1)+b)),tf.float32)\n",
        "  "
      ],
      "metadata": {
        "id": "K4DFEkcH9Ai7"
      },
      "execution_count": null,
      "outputs": []
    },
    {
      "cell_type": "code",
      "source": [
        "def cal_pdf(u,x,sigma):\n",
        "  a=tf.cast(x-u,tf.float32)\n",
        "  ma=tf.cast(tf.linalg.inv(sigma),tf.float32)\n",
        "  maa=tf.cast(tf.linalg.matmul(a,ma),tf.float32)\n",
        "  y=tf.multiply(tf.constant([-.5]),tf.cast(tf.linalg.matmul(maa,tf.transpose(a)),tf.float32))\n",
        "  return tf.divide(tf.exp(y),tf.sqrt(tf.linalg.det(tf.multiply(2*np.pi,sigma))))"
      ],
      "metadata": {
        "id": "Fzhajs9nMTTS"
      },
      "execution_count": null,
      "outputs": []
    },
    {
      "cell_type": "code",
      "source": [
        "def p_gmm(u_,c,w,b):\n",
        "  x=T(u_,c,w,b)\n",
        "  return tf.multiply(tf.constant([pr[0]]),cal_pdf(tf.constant([u[0]]),x,tf.constant(var[0])))+tf.multiply(tf.constant([pr[1]]),cal_pdf(tf.constant([u[1]]),x,tf.constant(var[1])))+tf.multiply(tf.constant([pr[2]]),cal_pdf(tf.constant([u[2]]),x,tf.constant(var[2])))"
      ],
      "metadata": {
        "id": "VTx3iyJ6KkIM"
      },
      "execution_count": null,
      "outputs": []
    },
    {
      "cell_type": "code",
      "source": [
        "c = tf.Variable([np.random.random(),np.random.random()], trainable=True)\n",
        "b = tf.Variable(np.random.random(), trainable=True)\n",
        "w = tf.Variable([np.random.random(),np.random.random()], trainable=True)"
      ],
      "metadata": {
        "id": "uQ98WkFmTfmP"
      },
      "execution_count": null,
      "outputs": []
    },
    {
      "cell_type": "code",
      "source": [
        "def step():\n",
        "    with tf.GradientTape(persistent=True) as tape:\n",
        "        # Calculate loss\n",
        "        poly_loss = loss(c,w,b,20)\n",
        "    # Calculate gradients\n",
        "    c_gradients, w_gradients, b_gradients = tape.gradient(poly_loss, [c, w, b])\n",
        "\n",
        "    # Update variables\n",
        "    # a = a - a_gradients * 0.001  # Gives error\n",
        "    c.assign(c-c_gradients * 0.001)\n",
        "    w.assign_sub(w_gradients * 0.001)\n",
        "    b.assign_sub(b_gradients * 0.001)"
      ],
      "metadata": {
        "id": "MunXtVdQTVhf"
      },
      "execution_count": null,
      "outputs": []
    },
    {
      "cell_type": "code",
      "source": [
        "# Training loop\n",
        "for _ in range(10000):\n",
        "    step()"
      ],
      "metadata": {
        "id": "jTw0JcMUM698"
      },
      "execution_count": null,
      "outputs": []
    },
    {
      "cell_type": "code",
      "source": [
        "print(c.numpy(),b.numpy(),w.numpy())"
      ],
      "metadata": {
        "colab": {
          "base_uri": "https://localhost:8080/"
        },
        "id": "H1c0aEX2eQ6-",
        "outputId": "9f0165bb-47e3-460e-96b9-b42c0de0fc9e"
      },
      "execution_count": null,
      "outputs": [
        {
          "output_type": "stream",
          "name": "stdout",
          "text": [
            "[1.5551172  0.82287836] 1.1600201 [0.3133504  0.37186405]\n"
          ]
        }
      ]
    },
    {
      "cell_type": "code",
      "source": [
        "sam=base_dist.sample(1000)\n",
        "data=T_(sam,c,w,b)\n",
        "plt.scatter(data[:,0],data[:,1])"
      ],
      "metadata": {
        "colab": {
          "base_uri": "https://localhost:8080/",
          "height": 282
        },
        "id": "VnbcfPM7aRHm",
        "outputId": "7da17bed-f017-41f5-ad60-687b1af3adbf"
      },
      "execution_count": null,
      "outputs": [
        {
          "output_type": "execute_result",
          "data": {
            "text/plain": [
              "<matplotlib.collections.PathCollection at 0x7f5e23a78a10>"
            ]
          },
          "metadata": {},
          "execution_count": 72
        },
        {
          "output_type": "display_data",
          "data": {
            "image/png": "[encoded data removed]",
            "text/plain": [
              "<Figure size 432x288 with 1 Axes>"
            ]
          },
          "metadata": {
            "needs_background": "light"
          }
        }
      ]
    }
  ]
}