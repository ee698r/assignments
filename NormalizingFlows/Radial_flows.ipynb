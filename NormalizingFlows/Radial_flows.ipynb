{
  "nbformat": 4,
  "nbformat_minor": 0,
  "metadata": {
    "colab": {
      "name": "Radial_flows.ipynb",
      "provenance": [],
      "collapsed_sections": []
    },
    "kernelspec": {
      "name": "python3",
      "display_name": "Python 3"
    },
    "language_info": {
      "name": "python"
    },
    "accelerator": "GPU"
  },
  "cells": [
    {
      "cell_type": "markdown",
      "source": [
        "Shresth Grover\n",
        "190820\n",
        "\n"
      ],
      "metadata": {
        "id": "nJRBF6gjwIM3"
      }
    },
    {
      "cell_type": "code",
      "execution_count": 14,
      "metadata": {
        "id": "5s77jRxMccTl"
      },
      "outputs": [],
      "source": [
        "import torch \n",
        "import torch.nn as nn\n",
        "import torch.distributions as dist\n",
        "import matplotlib.pyplot as plt \n",
        "import numpy as np\n",
        "import random"
      ]
    },
    {
      "cell_type": "code",
      "source": [
        "def target_distribution_sampling(n:int):\n",
        "  mean_1 = np.array([0,1],dtype = np.float32)\n",
        "  mean_2 = np.array([0,-1],dtype = np.float32)\n",
        "  mean_3 = np.array([1,0],dtype = np.float32)\n",
        "  mean_4 = np.array([-1,0],dtype = np.float32)\n",
        "  mean = {1:mean_1,2:mean_2,3:mean_3,4:mean_4}\n",
        "  scale = 4\n",
        "  for i in range(n):\n",
        "    choice = random.randint(1,4)\n",
        "    selected_mean = scale*mean[choice]\n",
        "    yield (dist.MultivariateNormal(torch.tensor(selected_mean),torch.eye(2))).sample().unsqueeze(0)\n",
        "\n"
      ],
      "metadata": {
        "id": "kNmWXBy-c-oW"
      },
      "execution_count": 15,
      "outputs": []
    },
    {
      "cell_type": "code",
      "source": [
        "t=torch.zeros(1,2)\n",
        "for i in target_distribution_sampling(10000):\n",
        "  t=torch.concat((t,i),axis=0)\n"
      ],
      "metadata": {
        "id": "KSJUgSZ8eYLd"
      },
      "execution_count": 16,
      "outputs": []
    },
    {
      "cell_type": "code",
      "source": [
        "plt.plot(t[:,0],t[:,1],\"*\")"
      ],
      "metadata": {
        "colab": {
          "base_uri": "https://localhost:8080/",
          "height": 282
        },
        "id": "qTao1HVreqGj",
        "outputId": "47700c1e-b5cd-4bc4-b994-30f6e96e521f"
      },
      "execution_count": 17,
      "outputs": [
        {
          "output_type": "execute_result",
          "data": {
            "text/plain": [
              "[<matplotlib.lines.Line2D at 0x7f07db44c590>]"
            ]
          },
          "metadata": {},
          "execution_count": 17
        },
        {
          "output_type": "display_data",
          "data": {
            "image/png": "[encoded data removed]",
            "text/plain": [
              "<Figure size 432x288 with 1 Axes>"
            ]
          },
          "metadata": {
            "needs_background": "light"
          }
        }
      ]
    },
    {
      "cell_type": "markdown",
      "source": [
        "Radial Flows"
      ],
      "metadata": {
        "id": "QZ8TnLcpfAFq"
      }
    },
    {
      "cell_type": "code",
      "source": [
        "from torch.nn.parameter import Parameter\n",
        "class Radial_Flow(nn.Module):\n",
        "  def __init__(self,input_shape):\n",
        "    super().__init__()\n",
        "    self.d = input_shape\n",
        "    self.alpha = nn.Parameter(torch.empty(1))\n",
        "    self.beta = nn.Parameter(torch.empty(1))\n",
        "    self.z0   = nn.Parameter(torch.randn(self.d))\n",
        "    nn.init.uniform_(self.beta, -1/self.d - 1.0, 1/self.d - 1.0)\n",
        "    nn.init.uniform_(self.alpha, -1/self.d - 1.0, 1/self.d - 1.0)\n",
        "  \n",
        "  def forward(self,z:torch.Tensor):\n",
        "    z_0 = z-self.z0\n",
        "    r = torch.norm(z_0,dim=list(range(1,z_0.dim())))\n",
        "    beta = torch.log(1 + torch.exp(self.beta)) - torch.abs(self.alpha)\n",
        "    h_arr = beta / (torch.abs(self.alpha) + r)\n",
        "    h_arr_ = - beta * r / (torch.abs(self.alpha) + r) ** 2\n",
        "    z_ = z + h_arr.unsqueeze(1) * z_0\n",
        "    log_det = (self.d - 1) * torch.log(1 + h_arr) + torch.log(1 + h_arr + h_arr_)\n",
        "    return z_, log_det\n",
        "\n",
        "    \n"
      ],
      "metadata": {
        "id": "J90j76pze4vA"
      },
      "execution_count": 18,
      "outputs": []
    },
    {
      "cell_type": "code",
      "source": [
        "class Flows(nn.Module):\n",
        "  def __init__(self,input_shape,no_of_transformations=10):\n",
        "    super().__init__()\n",
        "    self.layers = nn.ModuleList([Radial_Flow(input_shape) for _ in range(no_of_transformations)])\n",
        "    \n",
        "  def forward(self,z):\n",
        "    log_det_J=0\n",
        "    for layer in self.layers:\n",
        "      z,log_det = layer(z)\n",
        "      log_det_J += log_det\n",
        "    return z, log_det_J"
      ],
      "metadata": {
        "id": "ELwkutBDjic3"
      },
      "execution_count": 19,
      "outputs": []
    },
    {
      "cell_type": "code",
      "source": [
        "def U_1(z):\n",
        "  u = 0.5 * ((torch.norm(z, 2, dim=1) - 2) / 0.4) ** 2\n",
        "  u = u - torch.log(\n",
        "    torch.exp(-0.5 * ((z[:, 0] - 2) / 0.6) ** 2)\n",
        "    + torch.exp(-0.5 * ((z[:, 0] + 2) / 0.6) ** 2)\n",
        "                )\n",
        "  return u"
      ],
      "metadata": {
        "id": "oh0jG0bumain"
      },
      "execution_count": 20,
      "outputs": []
    },
    {
      "cell_type": "code",
      "source": [
        "def sample_batch(n):\n",
        "  t=torch.zeros(1,2)\n",
        "  for i in target_distribution_sampling(n-1):\n",
        "    t=torch.concat((t,i),axis=0)\n",
        "  return t\n",
        "  "
      ],
      "metadata": {
        "id": "hiLPrl0MrGJd"
      },
      "execution_count": 21,
      "outputs": []
    },
    {
      "cell_type": "code",
      "source": [
        "dim = 2\n",
        "no_of_layers =32\n",
        "num_batches =20000\n",
        "batch_size = 128 \n",
        "lr =3e-4\n",
        "model = Flows(input_shape=dim,no_of_transformations=32)\n",
        "opt = torch.optim.Adam(model.parameters(),lr =lr)\n",
        "\n",
        "base_dist = dist.MultivariateNormal(torch.zeros(2),torch.eye(2))\n",
        "for i in range(num_batches):\n",
        "  batch = torch.zeros(size=(batch_size, 2)).normal_(mean=0, std=1)\n",
        "  z,log_det_J = model(batch)\n",
        "  loss =  torch.mean((base_dist.log_prob(z)+U_1(z)-log_det_J))\n",
        "  opt.zero_grad()\n",
        "  loss.backward()\n",
        "  opt.step()\n",
        "  if i % 1000 == 0:\n",
        "     print(f\"(batch_num {i:05d}/{num_batches}) loss: {loss}\")\n",
        "\n"
      ],
      "metadata": {
        "colab": {
          "base_uri": "https://localhost:8080/"
        },
        "id": "gxlvwIkflVXP",
        "outputId": "18977cf0-318d-4489-96bd-700b394ddcf6"
      },
      "execution_count": 22,
      "outputs": [
        {
          "output_type": "stream",
          "name": "stdout",
          "text": [
            "(batch_num 00000/20000) loss: -12.163429260253906\n",
            "(batch_num 01000/20000) loss: -31.405719757080078\n",
            "(batch_num 02000/20000) loss: -63.540489196777344\n",
            "(batch_num 03000/20000) loss: -90.14105987548828\n",
            "(batch_num 04000/20000) loss: -115.75140380859375\n",
            "(batch_num 05000/20000) loss: -133.8494873046875\n",
            "(batch_num 06000/20000) loss: -159.21981811523438\n",
            "(batch_num 07000/20000) loss: -175.80560302734375\n",
            "(batch_num 08000/20000) loss: -191.2119903564453\n",
            "(batch_num 09000/20000) loss: -205.3712921142578\n",
            "(batch_num 10000/20000) loss: -219.8096160888672\n",
            "(batch_num 11000/20000) loss: -233.76535034179688\n",
            "(batch_num 12000/20000) loss: -247.7415771484375\n",
            "(batch_num 13000/20000) loss: -261.94354248046875\n",
            "(batch_num 14000/20000) loss: -273.91900634765625\n",
            "(batch_num 15000/20000) loss: -287.46099853515625\n",
            "(batch_num 16000/20000) loss: -299.616943359375\n",
            "(batch_num 17000/20000) loss: -311.044921875\n",
            "(batch_num 18000/20000) loss: -323.3574523925781\n",
            "(batch_num 19000/20000) loss: -335.3074035644531\n"
          ]
        }
      ]
    },
    {
      "cell_type": "code",
      "source": [
        "batch = torch.zeros(size=(10000, 2)).normal_(mean=0, std=1)\n",
        "ans,_= model(batch)"
      ],
      "metadata": {
        "id": "hC5J2iZjnnIZ"
      },
      "execution_count": 23,
      "outputs": []
    },
    {
      "cell_type": "code",
      "source": [
        "ans =ans.detach()\n"
      ],
      "metadata": {
        "id": "r7M_v559q1j_"
      },
      "execution_count": 24,
      "outputs": []
    },
    {
      "cell_type": "code",
      "source": [
        "plt.plot(ans[:,0],ans[:,1])"
      ],
      "metadata": {
        "id": "_Ffyx_ZYq-Vl"
      },
      "execution_count": null,
      "outputs": []
    }
  ]
}