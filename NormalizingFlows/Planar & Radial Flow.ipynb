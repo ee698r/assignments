{
  "nbformat": 4,
  "nbformat_minor": 0,
  "metadata": {
    "colab": {
      "name": "Planar & Radial Flow.ipynb",
      "provenance": []
    },
    "kernelspec": {
      "name": "python3",
      "display_name": "Python 3"
    },
    "language_info": {
      "name": "python"
    },
    "accelerator": "GPU"
  },
  "cells": [
    {
      "cell_type": "markdown",
      "source": [
        "# Priyanshu - 190651"
      ],
      "metadata": {
        "id": "iopyzQMxVExq"
      }
    },
    {
      "cell_type": "code",
      "execution_count": 1,
      "metadata": {
        "id": "Jhz0_viMzBgN"
      },
      "outputs": [],
      "source": [
        "import tensorflow as tf\n",
        "import tensorflow_probability as tfp\n",
        "import matplotlib.pyplot as plt\n",
        "tfd = tfp.distributions\n",
        "import numpy as np\n",
        "from tensorflow import keras\n",
        "from tensorflow.keras import layers\n",
        "from tensorflow.keras import optimizers"
      ]
    },
    {
      "cell_type": "markdown",
      "source": [
        "# Sampling"
      ],
      "metadata": {
        "id": "-Kek3r0TWsjr"
      }
    },
    {
      "cell_type": "markdown",
      "source": [
        "Part-1<br>\n",
        "Sampling the source Distribution"
      ],
      "metadata": {
        "id": "DCwGKKsf0FmN"
      }
    },
    {
      "cell_type": "code",
      "source": [
        "def uniformSampler(support = tf.Variable([0.0,1.0]), dims = 2):\n",
        "  '''\n",
        "  support is a list which contains info of support of distribution\n",
        "  dims : dimension of r.v\n",
        "  '''\n",
        "  low = []\n",
        "  high = []\n",
        "  for i in range(dims):\n",
        "    low.append(support[0])\n",
        "    high.append(support[1])\n",
        "\n",
        "  U = tfd.Uniform(low = low,high = high)\n",
        "  IndependentUniform = tfd.Independent(U, reinterpreted_batch_ndims=1)\n",
        "\n",
        "  return IndependentUniform"
      ],
      "metadata": {
        "id": "_AXuPDMV1D4-"
      },
      "execution_count": 2,
      "outputs": []
    },
    {
      "cell_type": "code",
      "source": [
        "sampler = uniformSampler([1,2],2)"
      ],
      "metadata": {
        "id": "KF7Te2Rl3LCN"
      },
      "execution_count": 3,
      "outputs": []
    },
    {
      "cell_type": "code",
      "source": [
        "sampler = uniformSampler()"
      ],
      "metadata": {
        "id": "n6PnbSzZFE3M"
      },
      "execution_count": 4,
      "outputs": []
    },
    {
      "cell_type": "code",
      "source": [
        "sampler.sample(1).numpy().squeeze()"
      ],
      "metadata": {
        "colab": {
          "base_uri": "https://localhost:8080/"
        },
        "id": "_VkPAlFzfMUd",
        "outputId": "9a00566d-5907-4b8f-f4e6-1626e40d7192"
      },
      "execution_count": 5,
      "outputs": [
        {
          "output_type": "execute_result",
          "data": {
            "text/plain": [
              "array([0.89802146, 0.4663937 ], dtype=float32)"
            ]
          },
          "metadata": {},
          "execution_count": 5
        }
      ]
    },
    {
      "cell_type": "code",
      "source": [
        "sampler.log_prob([0.5071665 , 1.])"
      ],
      "metadata": {
        "colab": {
          "base_uri": "https://localhost:8080/"
        },
        "id": "KirOQ-7wGGne",
        "outputId": "dae15daa-14f4-4388-9f86-69265d8f9365"
      },
      "execution_count": 6,
      "outputs": [
        {
          "output_type": "execute_result",
          "data": {
            "text/plain": [
              "<tf.Tensor: shape=(), dtype=float32, numpy=0.0>"
            ]
          },
          "metadata": {},
          "execution_count": 6
        }
      ]
    },
    {
      "cell_type": "markdown",
      "source": [
        "Part-2<br>\n",
        "Sampling the target distribution using GMM"
      ],
      "metadata": {
        "id": "bLiDxnOufGau"
      }
    },
    {
      "cell_type": "code",
      "source": [
        "def GMMsampler(pi = tf.Variable([0.3,0.7]) ,mus = tf.Variable([[2.,3.],[1.,4.]]),sigmas = tf.Variable([[1.,1.],[1.,2.]])):\n",
        "  '''\n",
        "  pi : probabilities of hidden variables\n",
        "  mus : means of clusters\n",
        "  sigmas : std of clusters\n",
        "  '''\n",
        "  \n",
        "  gmm = tfd.Mixture(\n",
        "    cat = tfd.Categorical(probs = pi),\n",
        "    components = [tfd.MultivariateNormalDiag(loc = mus[i], scale_diag = sigmas[i]) for i in range(mus.shape[0])] )\n",
        "  \n",
        "  return gmm"
      ],
      "metadata": {
        "id": "hoTodfkejDau"
      },
      "execution_count": 7,
      "outputs": []
    },
    {
      "cell_type": "code",
      "source": [
        "pi = np.array([0.3,0.7]) # probabilities of hidden variables\n",
        "mus = np.array([[2.,3.],[1.,4.]])\n",
        "sigmas = np.array([[1.,1.],[1.,2.]])"
      ],
      "metadata": {
        "id": "1RDc-e7I3SfX"
      },
      "execution_count": 8,
      "outputs": []
    },
    {
      "cell_type": "code",
      "source": [
        "gmmSampler = GMMsampler()"
      ],
      "metadata": {
        "id": "MDL_5g-AjwH_"
      },
      "execution_count": 9,
      "outputs": []
    },
    {
      "cell_type": "code",
      "source": [
        "gmmSampler.sample().numpy()"
      ],
      "metadata": {
        "colab": {
          "base_uri": "https://localhost:8080/"
        },
        "id": "y2YVN4KFj3gF",
        "outputId": "3cd97d56-8111-4a19-be1e-d94f7d1879a6"
      },
      "execution_count": 10,
      "outputs": [
        {
          "output_type": "execute_result",
          "data": {
            "text/plain": [
              "array([2.5382566, 3.1441536], dtype=float32)"
            ]
          },
          "metadata": {},
          "execution_count": 10
        }
      ]
    },
    {
      "cell_type": "markdown",
      "source": [
        "Part-3<br>\n",
        "Sampling using Normalising Flows(RNVP)<br>\n",
        "$$x_1 = u_1$$\n",
        "$$x_2 = u_2.\\sigma(u_1) + \\mu(u_1)$$"
      ],
      "metadata": {
        "id": "yhfbStZdkInU"
      }
    },
    {
      "cell_type": "code",
      "source": [
        "class NN(layers.Layer):\n",
        "\n",
        "    \"\"\"\n",
        "    Neural Network Architecture for calcualting s and t for Real-NVP\n",
        "    \n",
        "    :param input_shape: shape of the data coming in the layer\n",
        "    :param hidden_units: Python list-like of non-negative integers, specifying the number of units in each hidden layer.\n",
        "    :param activation: Activation of the hidden units\n",
        "    \"\"\"\n",
        "    \n",
        "    def __init__(self, input_shape, n_hidden=[64,64], activation=\"relu\"):\n",
        "        super(NN, self).__init__(name=\"nn\")\n",
        "        layer_list = []\n",
        "        for n in n_hidden:\n",
        "            layer_list.append(layers.Dense(n, activation=activation))\n",
        "        self.layer_list = layer_list\n",
        "        self.log_s_layer = layers.Dense(input_shape, activation=\"tanh\", name='log_s')\n",
        "        self.t_layer = layers.Dense(input_shape, name='t')\n",
        "\n",
        "    def call(self, x):\n",
        "        y = x\n",
        "        for layer in self.layer_list:\n",
        "            y = layer(y)\n",
        "        log_s = self.log_s_layer(y)\n",
        "        t = self.t_layer(y)\n",
        "        return log_s, t"
      ],
      "metadata": {
        "id": "bxesPxpPT90Q"
      },
      "execution_count": 11,
      "outputs": []
    },
    {
      "cell_type": "code",
      "source": [
        "neuralNet = NN(1)"
      ],
      "metadata": {
        "id": "RALr4tnwd6kr"
      },
      "execution_count": 12,
      "outputs": []
    },
    {
      "cell_type": "code",
      "source": [
        "def NFsampler(neuralNet,n):\n",
        "  '''\n",
        "  n: number of samples\n",
        "  neuralNet: neural network to get scaling and shifting factors\n",
        "  '''\n",
        "  \n",
        "  samples = []\n",
        "  for i in range(n):\n",
        "    U = ((uniformSampler([0,1], 2)).sample()).numpy()\n",
        "    u1,u2 = tf.split(U,2)\n",
        "    u1 = u1[...,np.newaxis]\n",
        "    u2 = u2[...,np.newaxis]\n",
        "    x1 = u1\n",
        "    log_s, t = neuralNet.call(u1)\n",
        "    x2 = tf.exp(log_s)*U[1] + t\n",
        "    samples.append([x1,x2])\n",
        "\n",
        "  samples = np.asarray(samples).squeeze()\n",
        "  \n",
        "  return samples "
      ],
      "metadata": {
        "id": "FUVUU6-FhtAP"
      },
      "execution_count": 13,
      "outputs": []
    },
    {
      "cell_type": "code",
      "source": [
        "samples = NFsampler(neuralNet,5)"
      ],
      "metadata": {
        "id": "5LzkrlT3YEW_"
      },
      "execution_count": 14,
      "outputs": []
    },
    {
      "cell_type": "code",
      "source": [
        "for sample in samples:\n",
        "  print(sample)"
      ],
      "metadata": {
        "colab": {
          "base_uri": "https://localhost:8080/"
        },
        "id": "6T-eKL2cZNYi",
        "outputId": "fe280a09-df1b-49e6-ee76-00ca3becc12f"
      },
      "execution_count": 15,
      "outputs": [
        {
          "output_type": "stream",
          "name": "stdout",
          "text": [
            "[0.60340166 0.4768921 ]\n",
            "[0.88082814 0.85761136]\n",
            "[0.31378317 0.28726184]\n",
            "[0.41116846 0.6972295 ]\n",
            "[0.7236142  0.96755874]\n"
          ]
        }
      ]
    },
    {
      "cell_type": "markdown",
      "source": [
        "# Planar Flow"
      ],
      "metadata": {
        "id": "k4iWEcrwtq3W"
      }
    },
    {
      "cell_type": "code",
      "source": [
        "import tensorflow as tf\n",
        "import numpy as np\n",
        "from scipy.stats import multivariate_normal\n",
        "import tensorflow_probability as tfp\n",
        "import matplotlib.pyplot as plt\n",
        "tfd=tfp.distributions"
      ],
      "metadata": {
        "id": "tA94ThfLtsjO"
      },
      "execution_count": null,
      "outputs": []
    },
    {
      "cell_type": "code",
      "source": [
        "u = tf.cast(np.asarray(uniformSampler(support = [0,1], dims = 2).sample()),tf.float32)\n",
        "# trainable parameters\n",
        "c = tf.Variable([np.random.random(),np.random.random()], trainable=True)\n",
        "b = tf.Variable(np.random.random(), trainable=True)\n",
        "w = tf.Variable([np.random.random(),np.random.random()], trainable=True)"
      ],
      "metadata": {
        "id": "Z1QCBJID2vF3"
      },
      "execution_count": null,
      "outputs": []
    },
    {
      "cell_type": "code",
      "source": [
        "def forward(u,w,b,c):\n",
        "  return tf.cast(u + tf.multiply(c,tf.tanh(tf.tensordot(u,w,1)+b)), tf.float32)\n",
        "# # checking\n",
        "# x = forward(u,w,b,c)\n",
        "# print(x.shape)"
      ],
      "metadata": {
        "id": "CODAz0Bo3wwY"
      },
      "execution_count": null,
      "outputs": []
    },
    {
      "cell_type": "code",
      "source": [
        "def forwardDetJacobian(u,w,b,c):\n",
        "\n",
        "  val1 = tf.cast(tf.tensordot(u,w,1)+b,tf.float32)\n",
        "  val2 = tf.cast(tf.tensordot(c,w,1),tf.float32)\n",
        "  val3 = tf.cast(tf.square(tf.cosh(val1)),tf.float32)\n",
        "\n",
        "  return tf.cast(tf.constant(1.0) + tf.divide(val2,val3), tf.float32)\n",
        "# # checking\n",
        "# a = forwardDetJacobian(u,w,b,c)\n",
        "# print(a)"
      ],
      "metadata": {
        "id": "oh8IAxxV4kHb"
      },
      "execution_count": null,
      "outputs": []
    },
    {
      "cell_type": "code",
      "source": [
        "# Target distribution : GMM\n",
        "def LogPstar(x):\n",
        "  p_star = GMMsampler()\n",
        "  return p_star.log_prob(x)"
      ],
      "metadata": {
        "id": "JKbi--gz7kRr"
      },
      "execution_count": null,
      "outputs": []
    },
    {
      "cell_type": "code",
      "source": [
        "# Base Distribution : Multivariate Uniform\n",
        "def LogP(u):\n",
        "  p = uniformSampler()\n",
        "  return p.log_prob(u)"
      ],
      "metadata": {
        "id": "X7MWWr7cEgt0"
      },
      "execution_count": null,
      "outputs": []
    },
    {
      "cell_type": "code",
      "source": [
        "def loss(w,b,c,n):\n",
        "  BaseSmapler = uniformSampler()\n",
        "  Us = BaseSmapler.sample(n)\n",
        "\n",
        "  Xs = []\n",
        "  for u in Us:\n",
        "    Xs.append(forward(u,w,b,c))\n",
        "  \n",
        "\n",
        "  logPstar = tf.cast(LogPstar(Xs),tf.float32)\n",
        "\n",
        "  logDet = []\n",
        "  for u in Us:\n",
        "    logDet.append(tf.cast(tf.math.log(forwardDetJacobian(u,w,b,c)),tf.float32))\n",
        "  \n",
        "  \n",
        "  logP = tf.cast(LogP(Us),tf.float32)\n",
        "  \n",
        "  return tf.cast(tf.reduce_mean(logP - logDet - logPstar), tf.float32)\n",
        "\n",
        "# loss(w,b,c,25)"
      ],
      "metadata": {
        "id": "AIiOUMQwAW6s"
      },
      "execution_count": null,
      "outputs": []
    },
    {
      "cell_type": "code",
      "source": [
        "def step(n = 30, eta = 0.001):\n",
        "  with tf.GradientTape(persistent=True) as tape:\n",
        "    lossval = loss(w,b,c,n)\n",
        "\n",
        "  w_gradient,b_gradient,c_gradient = tape.gradient(lossval, [w,b,c])\n",
        "\n",
        "  w.assign_sub(w_gradient*eta)\n",
        "  b.assign_sub(b_gradient*eta)\n",
        "  c.assign_sub(c_gradient*eta)"
      ],
      "metadata": {
        "id": "U84XeI3IIYzV"
      },
      "execution_count": null,
      "outputs": []
    },
    {
      "cell_type": "code",
      "source": [
        "# Training \n",
        "n_iter = 10000\n",
        "for _ in range(n_iter):\n",
        "    step()"
      ],
      "metadata": {
        "id": "Kjc_k8U9HEDk"
      },
      "execution_count": null,
      "outputs": []
    },
    {
      "cell_type": "code",
      "source": [
        "# initial w = <tf.Variable 'Variable:0' shape=(2,) dtype=float32, numpy=array([0.8454408, 0.7108003], dtype=float32)>\n",
        "print(w)"
      ],
      "metadata": {
        "colab": {
          "base_uri": "https://localhost:8080/"
        },
        "id": "4mpXX8L-M0kb",
        "outputId": "b927e4dd-f680-4ccd-c5bb-e1b3dc1332ab"
      },
      "execution_count": null,
      "outputs": [
        {
          "output_type": "stream",
          "name": "stdout",
          "text": [
            "<tf.Variable 'Variable:0' shape=(2,) dtype=float32, numpy=array([0.6962957, 1.4396416], dtype=float32)>\n"
          ]
        }
      ]
    },
    {
      "cell_type": "code",
      "source": [
        "sampler = uniformSampler()\n",
        "samples = sampler.sample(1000)"
      ],
      "metadata": {
        "id": "Iime_R06xKlz"
      },
      "execution_count": null,
      "outputs": []
    },
    {
      "cell_type": "code",
      "source": [
        "data = []\n",
        "\n",
        "for i in range(1000):\n",
        "  data.append(forward(samples[i],w,b,c))\n"
      ],
      "metadata": {
        "id": "z9rfsT67CZ1l"
      },
      "execution_count": null,
      "outputs": []
    },
    {
      "cell_type": "code",
      "source": [
        "data = np.asarray(data)"
      ],
      "metadata": {
        "id": "7EIw9PVQDhmE"
      },
      "execution_count": null,
      "outputs": []
    },
    {
      "cell_type": "code",
      "source": [
        "plt.scatter(data[:,0],data[:,1])"
      ],
      "metadata": {
        "colab": {
          "base_uri": "https://localhost:8080/",
          "height": 282
        },
        "id": "rznqlB8yDnoX",
        "outputId": "56286e85-964f-411d-f052-7cf258847c08"
      },
      "execution_count": null,
      "outputs": [
        {
          "output_type": "execute_result",
          "data": {
            "text/plain": [
              "<matplotlib.collections.PathCollection at 0x7f6680bde310>"
            ]
          },
          "metadata": {},
          "execution_count": 37
        },
        {
          "output_type": "display_data",
          "data": {
            "image/png": "[encoded data removed]",
            "text/plain": [
              "<Figure size 432x288 with 1 Axes>"
            ]
          },
          "metadata": {
            "needs_background": "light"
          }
        }
      ]
    },
    {
      "cell_type": "markdown",
      "source": [
        "# Radial Flow"
      ],
      "metadata": {
        "id": "zU64X7V0gsUS"
      }
    },
    {
      "cell_type": "markdown",
      "source": [
        "Defining Variables"
      ],
      "metadata": {
        "id": "F8v59ol0h86o"
      }
    },
    {
      "cell_type": "code",
      "source": [
        "u = tf.cast(np.asarray(uniformSampler(support = [0,1], dims = 2).sample()),tf.float32)\n",
        "\n",
        "# trainable parameters\n",
        "u0 = tf.Variable([np.random.random(),np.random.random()], trainable=True)\n",
        "beta = tf.Variable(np.random.random(), trainable=True)\n",
        "alpha = tf.Variable(np.random.random(), trainable=True)"
      ],
      "metadata": {
        "id": "ErtegmJTPTz4"
      },
      "execution_count": 17,
      "outputs": []
    },
    {
      "cell_type": "code",
      "source": [
        "def forwardRadial(u,u0,alpha,beta):\n",
        "  r = tf.norm(u-u0,ord='euclidean')\n",
        "  val = tf.cast(u + tf.divide(tf.multiply(beta,u-u0),alpha+r), tf.float32)\n",
        "  return val\n",
        "\n",
        "#print(forwardRadial(u,u0,alpha,beta))\n",
        "## prints <tf.Tensor: shape=(2,), dtype=float32, numpy=array([0.8058238 , 0.58532447], dtype=float32)>"
      ],
      "metadata": {
        "id": "CMQmJotOjD_T"
      },
      "execution_count": 21,
      "outputs": []
    },
    {
      "cell_type": "code",
      "source": [
        "dim = u.shape[0]\n",
        "print(dim)"
      ],
      "metadata": {
        "colab": {
          "base_uri": "https://localhost:8080/"
        },
        "id": "ahAmOG6AJ9cx",
        "outputId": "156f44b0-fd4f-4401-87a7-70ebc67730ac"
      },
      "execution_count": 23,
      "outputs": [
        {
          "output_type": "stream",
          "name": "stdout",
          "text": [
            "2\n"
          ]
        }
      ]
    },
    {
      "cell_type": "code",
      "source": [
        "tf.math.pow(2,3)"
      ],
      "metadata": {
        "colab": {
          "base_uri": "https://localhost:8080/"
        },
        "id": "UJxYx3vAKI1S",
        "outputId": "fe48dbb1-57b0-4705-ae7f-7d928514eac1"
      },
      "execution_count": 25,
      "outputs": [
        {
          "output_type": "execute_result",
          "data": {
            "text/plain": [
              "<tf.Tensor: shape=(), dtype=int32, numpy=8>"
            ]
          },
          "metadata": {},
          "execution_count": 25
        }
      ]
    },
    {
      "cell_type": "code",
      "source": [
        "def forwardDetJacobianRadial(u,u0,alpha,beta):\n",
        "\n",
        "  D = u.shape[0]\n",
        "  r = tf.norm(u-u0,ord='euclidean')\n",
        "\n",
        "  term1 = tf.cast(tf.math.pow((1 + beta/(alpha+r)),D-1), tf.float32)\n",
        "  term2 = tf.cast(1 + alpha*beta/tf.math.pow(alpha+r,2),tf.float32)\n",
        "\n",
        "  det = tf.cast(tf.abs(tf.multiply(term1,term2)), tf.float32)\n",
        "\n",
        "\n",
        "  return det\n",
        "\n",
        "# print(forwardDetJacobianRadial(u,u0,alpha,beta))\n",
        "## prints <tf.Tensor: shape=(), dtype=float32, numpy=1.0940843>"
      ],
      "metadata": {
        "id": "OZlkzNpVkdJz"
      },
      "execution_count": 26,
      "outputs": []
    },
    {
      "cell_type": "code",
      "source": [
        "forwardDetJacobianRadial(u,u0,alpha,beta)"
      ],
      "metadata": {
        "colab": {
          "base_uri": "https://localhost:8080/"
        },
        "id": "VyqRVqTuLf_M",
        "outputId": "574c08cc-0c58-47c3-b5ad-789b698bf557"
      },
      "execution_count": 27,
      "outputs": [
        {
          "output_type": "execute_result",
          "data": {
            "text/plain": [
              "<tf.Tensor: shape=(), dtype=float32, numpy=1.0940843>"
            ]
          },
          "metadata": {},
          "execution_count": 27
        }
      ]
    },
    {
      "cell_type": "code",
      "source": [
        "# Base Distribution : Multivariate Uniform\n",
        "def LogP(u):\n",
        "  p = uniformSampler()\n",
        "  return p.log_prob(u)"
      ],
      "metadata": {
        "id": "8KwHLY_FL_-e"
      },
      "execution_count": 29,
      "outputs": []
    },
    {
      "cell_type": "code",
      "source": [
        "# Target distribution : GMM\n",
        "def LogPstar(x):\n",
        "  p_star = GMMsampler()\n",
        "  return p_star.log_prob(x)"
      ],
      "metadata": {
        "id": "B1N6dLmVLjZX"
      },
      "execution_count": 28,
      "outputs": []
    },
    {
      "cell_type": "code",
      "source": [
        "def lossRadial(u0,alpha,beta,n):\n",
        "  BaseSmapler = uniformSampler()\n",
        "  Us = BaseSmapler.sample(n)\n",
        "\n",
        "  Xs = []\n",
        "  for u in Us:\n",
        "    Xs.append(forwardRadial(u,u0,alpha,beta))\n",
        "  \n",
        "\n",
        "  logPstar = tf.cast(LogPstar(Xs),tf.float32)\n",
        "\n",
        "  logDet = []\n",
        "  for u in Us:\n",
        "    logDet.append(tf.cast(tf.math.log(forwardDetJacobianRadial(u,u0,alpha,beta)),tf.float32))\n",
        "  \n",
        "  \n",
        "  logP = tf.cast(LogP(Us),tf.float32)\n",
        "  \n",
        "  return tf.cast(tf.reduce_mean(logP - logDet - logPstar), tf.float32)\n",
        "\n",
        "## check\n",
        "# print(lossRadial(u0,alpha,beta,25))\n",
        "# prints <tf.Tensor: shape=(), dtype=float32, numpy=4.415584>"
      ],
      "metadata": {
        "colab": {
          "base_uri": "https://localhost:8080/"
        },
        "id": "r3E46dxdL6p5",
        "outputId": "3a56c8a7-69a8-4e04-94ec-bd7112065b78"
      },
      "execution_count": 31,
      "outputs": [
        {
          "output_type": "execute_result",
          "data": {
            "text/plain": [
              "<tf.Tensor: shape=(), dtype=float32, numpy=4.415584>"
            ]
          },
          "metadata": {},
          "execution_count": 31
        }
      ]
    },
    {
      "cell_type": "code",
      "source": [
        "def step(n = 30, eta = 0.001):\n",
        "  with tf.GradientTape(persistent=True) as tape:\n",
        "    lossval = lossRadial(u0,alpha,beta,n)\n",
        "\n",
        "  u0_gradient,alpha_gradient,beta_gradient = tape.gradient(lossval, [u0,alpha,beta])\n",
        "\n",
        "  u0.assign_sub(u0_gradient*eta)\n",
        "  alpha.assign_sub(alpha_gradient*eta)\n",
        "  beta.assign_sub(beta_gradient*eta)"
      ],
      "metadata": {
        "id": "KKEIsEM_Mquf"
      },
      "execution_count": 32,
      "outputs": []
    },
    {
      "cell_type": "code",
      "source": [
        "# Training \n",
        "n_iter = 10000\n",
        "for _ in range(n_iter):\n",
        "    step()"
      ],
      "metadata": {
        "id": "MUqIfTqzNhGM"
      },
      "execution_count": 34,
      "outputs": []
    },
    {
      "cell_type": "code",
      "source": [
        "sampler = uniformSampler()\n",
        "samples = sampler.sample(1000)"
      ],
      "metadata": {
        "id": "EW-1Jkx_NxvT"
      },
      "execution_count": 35,
      "outputs": []
    },
    {
      "cell_type": "code",
      "source": [
        "data = []\n",
        "\n",
        "for i in range(1000):\n",
        "  data.append(forwardRadial(samples[i],u0,alpha,beta))"
      ],
      "metadata": {
        "id": "x6aBlatoN4ix"
      },
      "execution_count": 40,
      "outputs": []
    },
    {
      "cell_type": "code",
      "source": [
        "data = np.asarray(data)"
      ],
      "metadata": {
        "id": "t3_hrAZBOIt7"
      },
      "execution_count": 42,
      "outputs": []
    },
    {
      "cell_type": "code",
      "source": [
        "plt.scatter(data[:,0],data[:,1])"
      ],
      "metadata": {
        "colab": {
          "base_uri": "https://localhost:8080/",
          "height": 282
        },
        "id": "98jmMLJtONtz",
        "outputId": "9b875fa9-fccd-42df-f3b5-967fe53a39f0"
      },
      "execution_count": 43,
      "outputs": [
        {
          "output_type": "execute_result",
          "data": {
            "text/plain": [
              "<matplotlib.collections.PathCollection at 0x7fc4eb273c50>"
            ]
          },
          "metadata": {},
          "execution_count": 43
        },
        {
          "output_type": "display_data",
          "data": {
            "image/png": "[encoded data removed]",
            "text/plain": [
              "<Figure size 432x288 with 1 Axes>"
            ]
          },
          "metadata": {
            "needs_background": "light"
          }
        }
      ]
    }
  ]
}